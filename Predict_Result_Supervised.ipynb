{
 "cells": [
  {
   "cell_type": "code",
   "execution_count": null,
   "metadata": {},
   "outputs": [],
   "source": [
    "# Use the Azure Machine Learning data collector to log various metrics\n",
    "from azureml.logging import get_azureml_logger\n",
    "logger = get_azureml_logger()"
   ]
  },
  {
   "cell_type": "code",
   "execution_count": null,
   "metadata": {},
   "outputs": [],
   "source": [
    "# Use Azure Machine Learning history magic to control history collection\n",
    "# History is off by default, options are \"on\", \"off\", or \"show\"\n",
    "# %azureml history on"
   ]
  },
  {
   "cell_type": "code",
   "execution_count": 64,
   "metadata": {},
   "outputs": [],
   "source": [
    "%matplotlib inline\n",
    "\n",
    "import pandas as pd\n",
    "import numpy as np\n",
    "import matplotlib.pyplot as plt\n",
    "import itertools\n",
    "\n",
    "from sklearn.model_selection import train_test_split\n",
    "from sklearn import preprocessing\n",
    "\n",
    "from sklearn.naive_bayes import GaussianNB\n",
    "from sklearn.svm import SVC\n",
    "from sklearn.linear_model import LogisticRegression\n",
    "from sklearn.neighbors import KNeighborsRegressor\n",
    "\n",
    "from sklearn.metrics import accuracy_score, classification_report, confusion_matrix"
   ]
  },
  {
   "cell_type": "code",
   "execution_count": 19,
   "metadata": {},
   "outputs": [],
   "source": [
    "def plot_confusion_matrix(cm, classes,\n",
    "                          normalize=False,\n",
    "                          title='Confusion matrix',\n",
    "                          cmap=plt.cm.Blues):\n",
    "    \"\"\"\n",
    "    This function prints and plots the confusion matrix.\n",
    "    Normalization can be applied by setting `normalize=True`.\n",
    "    \"\"\"\n",
    "    if normalize:\n",
    "        cm = cm.astype('float') / cm.sum(axis=1)[:, np.newaxis]\n",
    "        print(\"Normalized confusion matrix\")\n",
    "    else:\n",
    "        print('Confusion matrix, without normalization')\n",
    "\n",
    "    print(cm)\n",
    "\n",
    "    plt.imshow(cm, interpolation='nearest', cmap=cmap)\n",
    "    plt.title(title)\n",
    "    plt.colorbar()\n",
    "    tick_marks = np.arange(len(classes))\n",
    "    plt.xticks(tick_marks, classes, rotation=45)\n",
    "    plt.yticks(tick_marks, classes)\n",
    "\n",
    "    fmt = '.2f' if normalize else 'd'\n",
    "    thresh = cm.max() / 2.\n",
    "    for i, j in itertools.product(range(cm.shape[0]), range(cm.shape[1])):\n",
    "        plt.text(j, i, format(cm[i, j], fmt),\n",
    "                 horizontalalignment=\"center\",\n",
    "                 color=\"white\" if cm[i, j] > thresh else \"black\")\n",
    "\n",
    "    plt.tight_layout()\n",
    "    plt.ylabel('True label')\n",
    "    plt.xlabel('Predicted label')"
   ]
  },
  {
   "cell_type": "code",
   "execution_count": 73,
   "metadata": {},
   "outputs": [],
   "source": [
    "data = pd.read_csv(\"matches.csv\", header=0, encoding=\"latin-1\")\n",
    "\n",
    "prepared_data = pd.DataFrame()\n",
    "\n",
    "homeVenue = list()\n",
    "for i, d in data[\"team1Text\"].iteritems():\n",
    "    v = data[\"venue\"].get(i)\n",
    "    h = False\n",
    "    if isinstance(v, str) and d in v:\n",
    "        h = True\n",
    "    homeVenue.append(h)\n",
    "    \n",
    "prepared_data[\"date\"] = data.date\n",
    "prepared_data[\"name\"] = preprocessing.LabelEncoder().fit_transform(data[\"team1\"])\n",
    "prepared_data[\"opponentName\"] = preprocessing.LabelEncoder().fit_transform(data[\"team2\"])\n",
    "prepared_data[\"homeVenue\"] = homeVenue\n",
    "prepared_data[\"neutralVenue\"] = [not v for v in homeVenue]\n",
    "prepared_data[\"homeScore\"] = data.team1Score\n",
    "prepared_data[\"opponentScore\"] = data.team2Score\n",
    "prepared_data[\"differenceScore\"] = data.team1Score - data.team2Score\n",
    "prepared_data[\"homeWin\"] = data.team1Score > data.team2Score\n",
    "prepared_data[\"opponentWin\"] = data.team1Score < data.team2Score\n",
    "prepared_data[\"draw\"] = data.team1Score == data.team2Score"
   ]
  },
  {
   "cell_type": "code",
   "execution_count": 74,
   "metadata": {},
   "outputs": [],
   "source": [
    "cols = prepared_data.columns\n",
    "x_columns = cols.drop([\"homeScore\", \"opponentScore\", \"differenceScore\"])\n",
    "\n",
    "x = prepared_data[x_columns]\n",
    "y = prepared_data[[\"homeScore\"]]\n",
    "X_train, X_test, y_train, y_test = train_test_split(x, y)"
   ]
  },
  {
   "cell_type": "code",
   "execution_count": 78,
   "metadata": {},
   "outputs": [
    {
     "name": "stdout",
     "output_type": "stream",
     "text": [
      "0.416394208313872\n",
      "          date  name  opponentName  homeVenue  neutralVenue  homeWin  \\\n",
      "6185  19840331   145           119       True         False     True   \n",
      "\n",
      "      opponentWin   draw  \n",
      "6185        False  False  \n",
      "('date', array([1.33200785e-03, 2.21469214e-01, 3.35905542e-01, 2.15129232e-01,\n",
      "       1.16621403e-01, 5.10606226e-02, 3.06844595e-02, 1.40736554e-02,\n",
      "       7.17825953e-03, 3.55236630e-03, 1.48667617e-03, 6.61559162e-04,\n",
      "       4.43441712e-04, 1.20725908e-04, 1.14833789e-04, 5.26004459e-05,\n",
      "       9.19706655e-05, 1.41438977e-05, 8.15260290e-07, 6.46506436e-06,\n",
      "       5.05996084e-09]))\n",
      "('name', array([3.64283612e-01, 4.34699879e-01, 1.64414110e-01, 2.48088820e-02,\n",
      "       3.76665509e-03, 2.33908548e-03, 1.02718395e-03, 7.79883085e-04,\n",
      "       7.95019674e-04, 8.11114887e-04, 7.06659938e-04, 5.12925712e-04,\n",
      "       4.04527521e-04, 1.99874932e-04, 1.86810045e-04, 7.76800768e-05,\n",
      "       1.17524603e-04, 5.48463009e-05, 8.61458121e-07, 1.25671493e-05,\n",
      "       2.96585871e-07]))\n",
      "('opponentName', array([1.40953169e-03, 1.95960088e-01, 3.38596969e-01, 2.30368025e-01,\n",
      "       1.23216541e-01, 5.35758839e-02, 2.61834946e-02, 1.58963499e-02,\n",
      "       7.05540109e-03, 3.57847841e-03, 2.09838086e-03, 1.04965420e-03,\n",
      "       3.36716935e-04, 2.68869664e-04, 1.77341033e-04, 4.70183774e-05,\n",
      "       1.10667944e-04, 6.98787738e-05, 6.92912916e-09, 7.01380280e-07,\n",
      "       1.82403646e-09]))\n",
      "('homeVenue', array([3.75662556e-01, 4.15799141e-01, 1.71400184e-01, 2.51323328e-02,\n",
      "       3.75500083e-03, 2.31588269e-03, 9.62544927e-04, 8.75389731e-04,\n",
      "       7.67852775e-04, 7.79172685e-04, 8.67713798e-04, 7.36928716e-04,\n",
      "       3.53096771e-04, 2.12832787e-04, 1.65221259e-04, 5.41567072e-05,\n",
      "       1.05474846e-04, 5.20915265e-05, 5.94157915e-08, 2.35524101e-06,\n",
      "       1.22291632e-08]))\n",
      "('neutralVenue', array([5.80597121e-01, 3.19441388e-01, 7.67815356e-02, 1.32495620e-02,\n",
      "       2.07305470e-03, 1.84512065e-03, 1.09802933e-03, 7.52160166e-04,\n",
      "       8.52681549e-04, 8.80679304e-04, 6.65204865e-04, 4.28592699e-04,\n",
      "       4.45384298e-04, 2.46383996e-04, 2.48639809e-04, 1.11713803e-04,\n",
      "       1.43764322e-04, 9.48985907e-05, 3.15523715e-06, 3.57336750e-05,\n",
      "       5.19633438e-06]))\n",
      "('homeWin', array([5.81328370e-01, 3.19726042e-01, 7.36687705e-02, 1.41228246e-02,\n",
      "       2.35606381e-03, 2.06708975e-03, 1.10651059e-03, 7.80375076e-04,\n",
      "       9.17785590e-04, 9.62033769e-04, 7.19501830e-04, 4.41121354e-04,\n",
      "       4.58842207e-04, 3.65023591e-04, 3.53347167e-04, 1.46262380e-04,\n",
      "       1.81246873e-04, 2.20837685e-04, 2.43139779e-06, 4.39244138e-05,\n",
      "       3.15953947e-05]))\n",
      "('opponentWin', array([3.77507897e-01, 4.19113798e-01, 1.62416807e-01, 2.73958014e-02,\n",
      "       4.06246736e-03, 2.51822766e-03, 9.40091824e-04, 8.39037223e-04,\n",
      "       8.37186840e-04, 8.84676679e-04, 9.09210525e-04, 6.51300093e-04,\n",
      "       3.45630616e-04, 5.14096610e-04, 3.71267676e-04, 1.01253333e-04,\n",
      "       1.70681187e-04, 4.13661508e-04, 4.07262922e-08, 4.73493812e-06,\n",
      "       2.13142883e-06]))\n",
      "('draw', array([3.87202216e-01, 3.93580327e-01, 1.77843319e-01, 2.68754740e-02,\n",
      "       4.06594571e-03, 2.47045994e-03, 1.07883728e-03, 1.20795492e-03,\n",
      "       9.05963147e-04, 9.17691412e-04, 1.34512181e-03, 1.35088557e-03,\n",
      "       3.73170898e-04, 3.21754752e-04, 2.00584212e-04, 5.01765343e-05,\n",
      "       1.26696005e-04, 8.29011834e-05, 3.91142110e-09, 5.15297195e-07,\n",
      "       9.08547850e-10]))\n"
     ]
    }
   ],
   "source": [
    "clf_lr = LogisticRegression(penalty='l1', tol=0.01, C=0.1)\n",
    "print(clf_lr.fit(X_train, y_train.values.ravel()).score(X_test, y_test))\n",
    "\n",
    "X_new = X_test[0:200]\n",
    "print(X_new[0:1])\n",
    "pred = clf_lr.predict_proba(X_new)\n",
    "\n",
    "for p in zip(X_new, pred):\n",
    "    print(p)"
   ]
  }
 ],
 "metadata": {
  "kernelspec": {
   "display_name": "Python 3",
   "language": "python",
   "name": "python3"
  },
  "language_info": {
   "codemirror_mode": {
    "name": "ipython",
    "version": 3
   },
   "file_extension": ".py",
   "mimetype": "text/x-python",
   "name": "python",
   "nbconvert_exporter": "python",
   "pygments_lexer": "ipython3",
   "version": "3.6.3"
  }
 },
 "nbformat": 4,
 "nbformat_minor": 2
}
